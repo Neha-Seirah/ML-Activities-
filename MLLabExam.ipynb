{
  "nbformat": 4,
  "nbformat_minor": 0,
  "metadata": {
    "colab": {
      "provenance": [],
      "authorship_tag": "ABX9TyONTI6VN1aw+QP7+qLFp0kz",
      "include_colab_link": true
    },
    "kernelspec": {
      "name": "python3",
      "display_name": "Python 3"
    },
    "language_info": {
      "name": "python"
    }
  },
  "cells": [
    {
      "cell_type": "markdown",
      "metadata": {
        "id": "view-in-github",
        "colab_type": "text"
      },
      "source": [
        "<a href=\"https://colab.research.google.com/github/Neha-Seirah/ML-Activities-/blob/main/MLLabExam.ipynb\" target=\"_parent\"><img src=\"https://colab.research.google.com/assets/colab-badge.svg\" alt=\"Open In Colab\"/></a>"
      ]
    },
    {
      "cell_type": "code",
      "execution_count": null,
      "metadata": {
        "id": "-zjeihhYgTrC"
      },
      "outputs": [],
      "source": [
        "import pandas as pd\n",
        "import numpy as np\n",
        "import matplotlib.pyplot as plt\n",
        "from sklearn.preprocessing import LabelEncoder\n",
        "import numpy as np\n",
        "import seaborn as sns\n",
        "import matplotlib.pyplot as plt\n"
      ]
    },
    {
      "cell_type": "code",
      "source": [],
      "metadata": {
        "id": "MetKWyjKwSJE"
      },
      "execution_count": null,
      "outputs": []
    },
    {
      "cell_type": "code",
      "source": [],
      "metadata": {
        "id": "KZwodn0qwSOw"
      },
      "execution_count": null,
      "outputs": []
    },
    {
      "cell_type": "markdown",
      "source": [
        "DATA LOADED"
      ],
      "metadata": {
        "id": "V66nd3LAjb0X"
      }
    },
    {
      "cell_type": "code",
      "source": [
        "df=pd.read_csv('/content/2015.csv')\n",
        "df.head()"
      ],
      "metadata": {
        "colab": {
          "base_uri": "https://localhost:8080/",
          "height": 327
        },
        "id": "x6nJMq3YgrEM",
        "outputId": "7a72329b-2317-487e-a5b0-f73a59c612bb"
      },
      "execution_count": null,
      "outputs": [
        {
          "output_type": "execute_result",
          "data": {
            "text/plain": [
              "       Country          Region  Happiness Rank  Happiness Score  \\\n",
              "0  Switzerland  Western Europe               1            7.587   \n",
              "1      Iceland  Western Europe               2            7.561   \n",
              "2      Denmark  Western Europe               3            7.527   \n",
              "3       Norway  Western Europe               4            7.522   \n",
              "4       Canada   North America               5            7.427   \n",
              "\n",
              "   Standard Error  Economy (GDP per Capita)   Family  \\\n",
              "0         0.03411                   1.39651  1.34951   \n",
              "1         0.04884                   1.30232  1.40223   \n",
              "2         0.03328                   1.32548  1.36058   \n",
              "3         0.03880                   1.45900  1.33095   \n",
              "4         0.03553                   1.32629  1.32261   \n",
              "\n",
              "   Health (Life Expectancy)  Freedom  Trust (Government Corruption)  \\\n",
              "0                   0.94143  0.66557                        0.41978   \n",
              "1                   0.94784  0.62877                        0.14145   \n",
              "2                   0.87464  0.64938                        0.48357   \n",
              "3                   0.88521  0.66973                        0.36503   \n",
              "4                   0.90563  0.63297                        0.32957   \n",
              "\n",
              "   Generosity  Dystopia Residual  \n",
              "0     0.29678            2.51738  \n",
              "1     0.43630            2.70201  \n",
              "2     0.34139            2.49204  \n",
              "3     0.34699            2.46531  \n",
              "4     0.45811            2.45176  "
            ],
            "text/html": [
              "\n",
              "  <div id=\"df-13518fbd-65f4-4d2c-9044-517f241a9fe8\" class=\"colab-df-container\">\n",
              "    <div>\n",
              "<style scoped>\n",
              "    .dataframe tbody tr th:only-of-type {\n",
              "        vertical-align: middle;\n",
              "    }\n",
              "\n",
              "    .dataframe tbody tr th {\n",
              "        vertical-align: top;\n",
              "    }\n",
              "\n",
              "    .dataframe thead th {\n",
              "        text-align: right;\n",
              "    }\n",
              "</style>\n",
              "<table border=\"1\" class=\"dataframe\">\n",
              "  <thead>\n",
              "    <tr style=\"text-align: right;\">\n",
              "      <th></th>\n",
              "      <th>Country</th>\n",
              "      <th>Region</th>\n",
              "      <th>Happiness Rank</th>\n",
              "      <th>Happiness Score</th>\n",
              "      <th>Standard Error</th>\n",
              "      <th>Economy (GDP per Capita)</th>\n",
              "      <th>Family</th>\n",
              "      <th>Health (Life Expectancy)</th>\n",
              "      <th>Freedom</th>\n",
              "      <th>Trust (Government Corruption)</th>\n",
              "      <th>Generosity</th>\n",
              "      <th>Dystopia Residual</th>\n",
              "    </tr>\n",
              "  </thead>\n",
              "  <tbody>\n",
              "    <tr>\n",
              "      <th>0</th>\n",
              "      <td>Switzerland</td>\n",
              "      <td>Western Europe</td>\n",
              "      <td>1</td>\n",
              "      <td>7.587</td>\n",
              "      <td>0.03411</td>\n",
              "      <td>1.39651</td>\n",
              "      <td>1.34951</td>\n",
              "      <td>0.94143</td>\n",
              "      <td>0.66557</td>\n",
              "      <td>0.41978</td>\n",
              "      <td>0.29678</td>\n",
              "      <td>2.51738</td>\n",
              "    </tr>\n",
              "    <tr>\n",
              "      <th>1</th>\n",
              "      <td>Iceland</td>\n",
              "      <td>Western Europe</td>\n",
              "      <td>2</td>\n",
              "      <td>7.561</td>\n",
              "      <td>0.04884</td>\n",
              "      <td>1.30232</td>\n",
              "      <td>1.40223</td>\n",
              "      <td>0.94784</td>\n",
              "      <td>0.62877</td>\n",
              "      <td>0.14145</td>\n",
              "      <td>0.43630</td>\n",
              "      <td>2.70201</td>\n",
              "    </tr>\n",
              "    <tr>\n",
              "      <th>2</th>\n",
              "      <td>Denmark</td>\n",
              "      <td>Western Europe</td>\n",
              "      <td>3</td>\n",
              "      <td>7.527</td>\n",
              "      <td>0.03328</td>\n",
              "      <td>1.32548</td>\n",
              "      <td>1.36058</td>\n",
              "      <td>0.87464</td>\n",
              "      <td>0.64938</td>\n",
              "      <td>0.48357</td>\n",
              "      <td>0.34139</td>\n",
              "      <td>2.49204</td>\n",
              "    </tr>\n",
              "    <tr>\n",
              "      <th>3</th>\n",
              "      <td>Norway</td>\n",
              "      <td>Western Europe</td>\n",
              "      <td>4</td>\n",
              "      <td>7.522</td>\n",
              "      <td>0.03880</td>\n",
              "      <td>1.45900</td>\n",
              "      <td>1.33095</td>\n",
              "      <td>0.88521</td>\n",
              "      <td>0.66973</td>\n",
              "      <td>0.36503</td>\n",
              "      <td>0.34699</td>\n",
              "      <td>2.46531</td>\n",
              "    </tr>\n",
              "    <tr>\n",
              "      <th>4</th>\n",
              "      <td>Canada</td>\n",
              "      <td>North America</td>\n",
              "      <td>5</td>\n",
              "      <td>7.427</td>\n",
              "      <td>0.03553</td>\n",
              "      <td>1.32629</td>\n",
              "      <td>1.32261</td>\n",
              "      <td>0.90563</td>\n",
              "      <td>0.63297</td>\n",
              "      <td>0.32957</td>\n",
              "      <td>0.45811</td>\n",
              "      <td>2.45176</td>\n",
              "    </tr>\n",
              "  </tbody>\n",
              "</table>\n",
              "</div>\n",
              "    <div class=\"colab-df-buttons\">\n",
              "\n",
              "  <div class=\"colab-df-container\">\n",
              "    <button class=\"colab-df-convert\" onclick=\"convertToInteractive('df-13518fbd-65f4-4d2c-9044-517f241a9fe8')\"\n",
              "            title=\"Convert this dataframe to an interactive table.\"\n",
              "            style=\"display:none;\">\n",
              "\n",
              "  <svg xmlns=\"http://www.w3.org/2000/svg\" height=\"24px\" viewBox=\"0 -960 960 960\">\n",
              "    <path d=\"M120-120v-720h720v720H120Zm60-500h600v-160H180v160Zm220 220h160v-160H400v160Zm0 220h160v-160H400v160ZM180-400h160v-160H180v160Zm440 0h160v-160H620v160ZM180-180h160v-160H180v160Zm440 0h160v-160H620v160Z\"/>\n",
              "  </svg>\n",
              "    </button>\n",
              "\n",
              "  <style>\n",
              "    .colab-df-container {\n",
              "      display:flex;\n",
              "      gap: 12px;\n",
              "    }\n",
              "\n",
              "    .colab-df-convert {\n",
              "      background-color: #E8F0FE;\n",
              "      border: none;\n",
              "      border-radius: 50%;\n",
              "      cursor: pointer;\n",
              "      display: none;\n",
              "      fill: #1967D2;\n",
              "      height: 32px;\n",
              "      padding: 0 0 0 0;\n",
              "      width: 32px;\n",
              "    }\n",
              "\n",
              "    .colab-df-convert:hover {\n",
              "      background-color: #E2EBFA;\n",
              "      box-shadow: 0px 1px 2px rgba(60, 64, 67, 0.3), 0px 1px 3px 1px rgba(60, 64, 67, 0.15);\n",
              "      fill: #174EA6;\n",
              "    }\n",
              "\n",
              "    .colab-df-buttons div {\n",
              "      margin-bottom: 4px;\n",
              "    }\n",
              "\n",
              "    [theme=dark] .colab-df-convert {\n",
              "      background-color: #3B4455;\n",
              "      fill: #D2E3FC;\n",
              "    }\n",
              "\n",
              "    [theme=dark] .colab-df-convert:hover {\n",
              "      background-color: #434B5C;\n",
              "      box-shadow: 0px 1px 3px 1px rgba(0, 0, 0, 0.15);\n",
              "      filter: drop-shadow(0px 1px 2px rgba(0, 0, 0, 0.3));\n",
              "      fill: #FFFFFF;\n",
              "    }\n",
              "  </style>\n",
              "\n",
              "    <script>\n",
              "      const buttonEl =\n",
              "        document.querySelector('#df-13518fbd-65f4-4d2c-9044-517f241a9fe8 button.colab-df-convert');\n",
              "      buttonEl.style.display =\n",
              "        google.colab.kernel.accessAllowed ? 'block' : 'none';\n",
              "\n",
              "      async function convertToInteractive(key) {\n",
              "        const element = document.querySelector('#df-13518fbd-65f4-4d2c-9044-517f241a9fe8');\n",
              "        const dataTable =\n",
              "          await google.colab.kernel.invokeFunction('convertToInteractive',\n",
              "                                                    [key], {});\n",
              "        if (!dataTable) return;\n",
              "\n",
              "        const docLinkHtml = 'Like what you see? Visit the ' +\n",
              "          '<a target=\"_blank\" href=https://colab.research.google.com/notebooks/data_table.ipynb>data table notebook</a>'\n",
              "          + ' to learn more about interactive tables.';\n",
              "        element.innerHTML = '';\n",
              "        dataTable['output_type'] = 'display_data';\n",
              "        await google.colab.output.renderOutput(dataTable, element);\n",
              "        const docLink = document.createElement('div');\n",
              "        docLink.innerHTML = docLinkHtml;\n",
              "        element.appendChild(docLink);\n",
              "      }\n",
              "    </script>\n",
              "  </div>\n",
              "\n",
              "\n",
              "<div id=\"df-646032a8-4653-4a9d-b08f-282f4e71af23\">\n",
              "  <button class=\"colab-df-quickchart\" onclick=\"quickchart('df-646032a8-4653-4a9d-b08f-282f4e71af23')\"\n",
              "            title=\"Suggest charts.\"\n",
              "            style=\"display:none;\">\n",
              "\n",
              "<svg xmlns=\"http://www.w3.org/2000/svg\" height=\"24px\"viewBox=\"0 0 24 24\"\n",
              "     width=\"24px\">\n",
              "    <g>\n",
              "        <path d=\"M19 3H5c-1.1 0-2 .9-2 2v14c0 1.1.9 2 2 2h14c1.1 0 2-.9 2-2V5c0-1.1-.9-2-2-2zM9 17H7v-7h2v7zm4 0h-2V7h2v10zm4 0h-2v-4h2v4z\"/>\n",
              "    </g>\n",
              "</svg>\n",
              "  </button>\n",
              "\n",
              "<style>\n",
              "  .colab-df-quickchart {\n",
              "    background-color: #E8F0FE;\n",
              "    border: none;\n",
              "    border-radius: 50%;\n",
              "    cursor: pointer;\n",
              "    display: none;\n",
              "    fill: #1967D2;\n",
              "    height: 32px;\n",
              "    padding: 0 0 0 0;\n",
              "    width: 32px;\n",
              "  }\n",
              "\n",
              "  .colab-df-quickchart:hover {\n",
              "    background-color: #E2EBFA;\n",
              "    box-shadow: 0px 1px 2px rgba(60, 64, 67, 0.3), 0px 1px 3px 1px rgba(60, 64, 67, 0.15);\n",
              "    fill: #174EA6;\n",
              "  }\n",
              "\n",
              "  [theme=dark] .colab-df-quickchart {\n",
              "    background-color: #3B4455;\n",
              "    fill: #D2E3FC;\n",
              "  }\n",
              "\n",
              "  [theme=dark] .colab-df-quickchart:hover {\n",
              "    background-color: #434B5C;\n",
              "    box-shadow: 0px 1px 3px 1px rgba(0, 0, 0, 0.15);\n",
              "    filter: drop-shadow(0px 1px 2px rgba(0, 0, 0, 0.3));\n",
              "    fill: #FFFFFF;\n",
              "  }\n",
              "</style>\n",
              "\n",
              "  <script>\n",
              "    async function quickchart(key) {\n",
              "      const charts = await google.colab.kernel.invokeFunction(\n",
              "          'suggestCharts', [key], {});\n",
              "    }\n",
              "    (() => {\n",
              "      let quickchartButtonEl =\n",
              "        document.querySelector('#df-646032a8-4653-4a9d-b08f-282f4e71af23 button');\n",
              "      quickchartButtonEl.style.display =\n",
              "        google.colab.kernel.accessAllowed ? 'block' : 'none';\n",
              "    })();\n",
              "  </script>\n",
              "</div>\n",
              "    </div>\n",
              "  </div>\n"
            ]
          },
          "metadata": {},
          "execution_count": 11
        }
      ]
    },
    {
      "cell_type": "code",
      "source": [
        "df.info()"
      ],
      "metadata": {
        "colab": {
          "base_uri": "https://localhost:8080/"
        },
        "id": "iFabtSEmivVs",
        "outputId": "e315b041-ab82-47aa-b493-ca91f58d2f1d"
      },
      "execution_count": null,
      "outputs": [
        {
          "output_type": "stream",
          "name": "stdout",
          "text": [
            "<class 'pandas.core.frame.DataFrame'>\n",
            "RangeIndex: 158 entries, 0 to 157\n",
            "Data columns (total 12 columns):\n",
            " #   Column                         Non-Null Count  Dtype  \n",
            "---  ------                         --------------  -----  \n",
            " 0   Country                        158 non-null    object \n",
            " 1   Region                         158 non-null    object \n",
            " 2   Happiness Rank                 158 non-null    int64  \n",
            " 3   Happiness Score                158 non-null    float64\n",
            " 4   Standard Error                 158 non-null    float64\n",
            " 5   Economy (GDP per Capita)       158 non-null    float64\n",
            " 6   Family                         158 non-null    float64\n",
            " 7   Health (Life Expectancy)       158 non-null    float64\n",
            " 8   Freedom                        158 non-null    float64\n",
            " 9   Trust (Government Corruption)  158 non-null    float64\n",
            " 10  Generosity                     158 non-null    float64\n",
            " 11  Dystopia Residual              158 non-null    float64\n",
            "dtypes: float64(9), int64(1), object(2)\n",
            "memory usage: 14.9+ KB\n"
          ]
        }
      ]
    },
    {
      "cell_type": "code",
      "source": [
        "df.shape"
      ],
      "metadata": {
        "colab": {
          "base_uri": "https://localhost:8080/"
        },
        "id": "1DbOYce2iv09",
        "outputId": "e941ada0-fb93-41b7-909e-d5274e9f52d6"
      },
      "execution_count": null,
      "outputs": [
        {
          "output_type": "execute_result",
          "data": {
            "text/plain": [
              "(158, 12)"
            ]
          },
          "metadata": {},
          "execution_count": 13
        }
      ]
    },
    {
      "cell_type": "code",
      "source": [
        "df.describe"
      ],
      "metadata": {
        "colab": {
          "base_uri": "https://localhost:8080/"
        },
        "id": "hVNNX8aAi6Nb",
        "outputId": "8cc13545-2107-469f-d863-3d48080e07f3"
      },
      "execution_count": null,
      "outputs": [
        {
          "output_type": "execute_result",
          "data": {
            "text/plain": [
              "<bound method NDFrame.describe of          Country                           Region  Happiness Rank  \\\n",
              "0    Switzerland                   Western Europe               1   \n",
              "1        Iceland                   Western Europe               2   \n",
              "2        Denmark                   Western Europe               3   \n",
              "3         Norway                   Western Europe               4   \n",
              "4         Canada                    North America               5   \n",
              "..           ...                              ...             ...   \n",
              "153       Rwanda               Sub-Saharan Africa             154   \n",
              "154        Benin               Sub-Saharan Africa             155   \n",
              "155        Syria  Middle East and Northern Africa             156   \n",
              "156      Burundi               Sub-Saharan Africa             157   \n",
              "157         Togo               Sub-Saharan Africa             158   \n",
              "\n",
              "     Happiness Score  Standard Error  Economy (GDP per Capita)   Family  \\\n",
              "0              7.587         0.03411                   1.39651  1.34951   \n",
              "1              7.561         0.04884                   1.30232  1.40223   \n",
              "2              7.527         0.03328                   1.32548  1.36058   \n",
              "3              7.522         0.03880                   1.45900  1.33095   \n",
              "4              7.427         0.03553                   1.32629  1.32261   \n",
              "..               ...             ...                       ...      ...   \n",
              "153            3.465         0.03464                   0.22208  0.77370   \n",
              "154            3.340         0.03656                   0.28665  0.35386   \n",
              "155            3.006         0.05015                   0.66320  0.47489   \n",
              "156            2.905         0.08658                   0.01530  0.41587   \n",
              "157            2.839         0.06727                   0.20868  0.13995   \n",
              "\n",
              "     Health (Life Expectancy)  Freedom  Trust (Government Corruption)  \\\n",
              "0                     0.94143  0.66557                        0.41978   \n",
              "1                     0.94784  0.62877                        0.14145   \n",
              "2                     0.87464  0.64938                        0.48357   \n",
              "3                     0.88521  0.66973                        0.36503   \n",
              "4                     0.90563  0.63297                        0.32957   \n",
              "..                        ...      ...                            ...   \n",
              "153                   0.42864  0.59201                        0.55191   \n",
              "154                   0.31910  0.48450                        0.08010   \n",
              "155                   0.72193  0.15684                        0.18906   \n",
              "156                   0.22396  0.11850                        0.10062   \n",
              "157                   0.28443  0.36453                        0.10731   \n",
              "\n",
              "     Generosity  Dystopia Residual  \n",
              "0       0.29678            2.51738  \n",
              "1       0.43630            2.70201  \n",
              "2       0.34139            2.49204  \n",
              "3       0.34699            2.46531  \n",
              "4       0.45811            2.45176  \n",
              "..          ...                ...  \n",
              "153     0.22628            0.67042  \n",
              "154     0.18260            1.63328  \n",
              "155     0.47179            0.32858  \n",
              "156     0.19727            1.83302  \n",
              "157     0.16681            1.56726  \n",
              "\n",
              "[158 rows x 12 columns]>"
            ]
          },
          "metadata": {},
          "execution_count": 14
        }
      ]
    },
    {
      "cell_type": "markdown",
      "source": [
        "**THERE ARE 158 ROWS AND 12 COLUMNS**"
      ],
      "metadata": {
        "id": "Zlujr9Z7jTdO"
      }
    },
    {
      "cell_type": "code",
      "source": [],
      "metadata": {
        "id": "O1RjSjdBjmjL"
      },
      "execution_count": null,
      "outputs": []
    },
    {
      "cell_type": "markdown",
      "source": [
        "CHECKING FOR MISSING VALUES"
      ],
      "metadata": {
        "id": "csDBDYeIjhS-"
      }
    },
    {
      "cell_type": "code",
      "source": [
        "df.isnull().sum()"
      ],
      "metadata": {
        "colab": {
          "base_uri": "https://localhost:8080/"
        },
        "id": "SwjFsHtLi6W-",
        "outputId": "adc8968e-829a-45e3-b3f0-030e60d31827"
      },
      "execution_count": null,
      "outputs": [
        {
          "output_type": "execute_result",
          "data": {
            "text/plain": [
              "Country                          0\n",
              "Region                           0\n",
              "Happiness Rank                   0\n",
              "Happiness Score                  0\n",
              "Standard Error                   0\n",
              "Economy (GDP per Capita)         0\n",
              "Family                           0\n",
              "Health (Life Expectancy)         0\n",
              "Freedom                          0\n",
              "Trust (Government Corruption)    0\n",
              "Generosity                       0\n",
              "Dystopia Residual                0\n",
              "dtype: int64"
            ]
          },
          "metadata": {},
          "execution_count": 15
        }
      ]
    },
    {
      "cell_type": "markdown",
      "source": [
        "**NONE OF THE VALUES ARE MISSING**"
      ],
      "metadata": {
        "id": "VKEuPxMMjpqn"
      }
    },
    {
      "cell_type": "code",
      "source": [],
      "metadata": {
        "id": "K4msLSiAlTRP"
      },
      "execution_count": null,
      "outputs": []
    },
    {
      "cell_type": "markdown",
      "source": [
        "BINNING FOR HAPPINESS SCORE"
      ],
      "metadata": {
        "id": "YTM9ge09kCjV"
      }
    },
    {
      "cell_type": "code",
      "source": [
        " h_bins=[7.427,7.527,7.561,7.584,7.587, float('inf')]\n",
        "happy_labels=['< 7.427 ','<=7.561', '<7.585']\n",
        "df['happyscore']=pd.cut(df['Happiness Score'],bins=h_bins,labels=happy_labels,right=False)\n",
        "print(df[['Happiness Score','happyscore']])\n"
      ],
      "metadata": {
        "colab": {
          "base_uri": "https://localhost:8080/",
          "height": 390
        },
        "id": "E4JQL1VXlSkz",
        "outputId": "6c13cb59-2fee-4046-8bcb-1735e527f66d"
      },
      "execution_count": null,
      "outputs": [
        {
          "output_type": "error",
          "ename": "ValueError",
          "evalue": "ignored",
          "traceback": [
            "\u001b[0;31m---------------------------------------------------------------------------\u001b[0m",
            "\u001b[0;31mValueError\u001b[0m                                Traceback (most recent call last)",
            "\u001b[0;32m<ipython-input-35-3ee1572a2707>\u001b[0m in \u001b[0;36m<cell line: 3>\u001b[0;34m()\u001b[0m\n\u001b[1;32m      1\u001b[0m \u001b[0mh_bins\u001b[0m\u001b[0;34m=\u001b[0m\u001b[0;34m[\u001b[0m\u001b[0;36m7.427\u001b[0m\u001b[0;34m,\u001b[0m\u001b[0;36m7.527\u001b[0m\u001b[0;34m,\u001b[0m\u001b[0;36m7.561\u001b[0m\u001b[0;34m,\u001b[0m\u001b[0;36m7.584\u001b[0m\u001b[0;34m,\u001b[0m\u001b[0;36m7.587\u001b[0m\u001b[0;34m,\u001b[0m \u001b[0mfloat\u001b[0m\u001b[0;34m(\u001b[0m\u001b[0;34m'inf'\u001b[0m\u001b[0;34m)\u001b[0m\u001b[0;34m]\u001b[0m\u001b[0;34m\u001b[0m\u001b[0;34m\u001b[0m\u001b[0m\n\u001b[1;32m      2\u001b[0m \u001b[0mhappy_labels\u001b[0m\u001b[0;34m=\u001b[0m\u001b[0;34m[\u001b[0m\u001b[0;34m'< 7.427 '\u001b[0m\u001b[0;34m,\u001b[0m\u001b[0;34m'<=7.561'\u001b[0m\u001b[0;34m,\u001b[0m \u001b[0;34m'<7.585'\u001b[0m\u001b[0;34m]\u001b[0m\u001b[0;34m\u001b[0m\u001b[0;34m\u001b[0m\u001b[0m\n\u001b[0;32m----> 3\u001b[0;31m \u001b[0mdf\u001b[0m\u001b[0;34m[\u001b[0m\u001b[0;34m'happyscore'\u001b[0m\u001b[0;34m]\u001b[0m\u001b[0;34m=\u001b[0m\u001b[0mpd\u001b[0m\u001b[0;34m.\u001b[0m\u001b[0mcut\u001b[0m\u001b[0;34m(\u001b[0m\u001b[0mdf\u001b[0m\u001b[0;34m[\u001b[0m\u001b[0;34m'Happiness Score'\u001b[0m\u001b[0;34m]\u001b[0m\u001b[0;34m,\u001b[0m\u001b[0mbins\u001b[0m\u001b[0;34m=\u001b[0m\u001b[0mh_bins\u001b[0m\u001b[0;34m,\u001b[0m\u001b[0mlabels\u001b[0m\u001b[0;34m=\u001b[0m\u001b[0mhappy_labels\u001b[0m\u001b[0;34m,\u001b[0m\u001b[0mright\u001b[0m\u001b[0;34m=\u001b[0m\u001b[0;32mFalse\u001b[0m\u001b[0;34m)\u001b[0m\u001b[0;34m\u001b[0m\u001b[0;34m\u001b[0m\u001b[0m\n\u001b[0m\u001b[1;32m      4\u001b[0m \u001b[0mprint\u001b[0m\u001b[0;34m(\u001b[0m\u001b[0mdf\u001b[0m\u001b[0;34m[\u001b[0m\u001b[0;34m[\u001b[0m\u001b[0;34m'Happiness Score'\u001b[0m\u001b[0;34m,\u001b[0m\u001b[0;34m'happyscore'\u001b[0m\u001b[0;34m]\u001b[0m\u001b[0;34m]\u001b[0m\u001b[0;34m)\u001b[0m\u001b[0;34m\u001b[0m\u001b[0;34m\u001b[0m\u001b[0m\n",
            "\u001b[0;32m/usr/local/lib/python3.10/dist-packages/pandas/core/reshape/tile.py\u001b[0m in \u001b[0;36mcut\u001b[0;34m(x, bins, right, labels, retbins, precision, include_lowest, duplicates, ordered)\u001b[0m\n\u001b[1;32m    291\u001b[0m             \u001b[0;32mraise\u001b[0m \u001b[0mValueError\u001b[0m\u001b[0;34m(\u001b[0m\u001b[0;34m\"bins must increase monotonically.\"\u001b[0m\u001b[0;34m)\u001b[0m\u001b[0;34m\u001b[0m\u001b[0;34m\u001b[0m\u001b[0m\n\u001b[1;32m    292\u001b[0m \u001b[0;34m\u001b[0m\u001b[0m\n\u001b[0;32m--> 293\u001b[0;31m     fac, bins = _bins_to_cuts(\n\u001b[0m\u001b[1;32m    294\u001b[0m         \u001b[0mx\u001b[0m\u001b[0;34m,\u001b[0m\u001b[0;34m\u001b[0m\u001b[0;34m\u001b[0m\u001b[0m\n\u001b[1;32m    295\u001b[0m         \u001b[0mbins\u001b[0m\u001b[0;34m,\u001b[0m\u001b[0;34m\u001b[0m\u001b[0;34m\u001b[0m\u001b[0m\n",
            "\u001b[0;32m/usr/local/lib/python3.10/dist-packages/pandas/core/reshape/tile.py\u001b[0m in \u001b[0;36m_bins_to_cuts\u001b[0;34m(x, bins, right, labels, precision, include_lowest, dtype, duplicates, ordered)\u001b[0m\n\u001b[1;32m    452\u001b[0m         \u001b[0;32melse\u001b[0m\u001b[0;34m:\u001b[0m\u001b[0;34m\u001b[0m\u001b[0;34m\u001b[0m\u001b[0m\n\u001b[1;32m    453\u001b[0m             \u001b[0;32mif\u001b[0m \u001b[0mlen\u001b[0m\u001b[0;34m(\u001b[0m\u001b[0mlabels\u001b[0m\u001b[0;34m)\u001b[0m \u001b[0;34m!=\u001b[0m \u001b[0mlen\u001b[0m\u001b[0;34m(\u001b[0m\u001b[0mbins\u001b[0m\u001b[0;34m)\u001b[0m \u001b[0;34m-\u001b[0m \u001b[0;36m1\u001b[0m\u001b[0;34m:\u001b[0m\u001b[0;34m\u001b[0m\u001b[0;34m\u001b[0m\u001b[0m\n\u001b[0;32m--> 454\u001b[0;31m                 raise ValueError(\n\u001b[0m\u001b[1;32m    455\u001b[0m                     \u001b[0;34m\"Bin labels must be one fewer than the number of bin edges\"\u001b[0m\u001b[0;34m\u001b[0m\u001b[0;34m\u001b[0m\u001b[0m\n\u001b[1;32m    456\u001b[0m                 )\n",
            "\u001b[0;31mValueError\u001b[0m: Bin labels must be one fewer than the number of bin edges"
          ]
        }
      ]
    },
    {
      "cell_type": "code",
      "source": [],
      "metadata": {
        "id": "U4tjqWEetZmD"
      },
      "execution_count": null,
      "outputs": []
    },
    {
      "cell_type": "code",
      "source": [],
      "metadata": {
        "id": "eUiRm8VRiwQU"
      },
      "execution_count": null,
      "outputs": []
    },
    {
      "cell_type": "markdown",
      "source": [
        "ONE HOT ENCODING ON REGION"
      ],
      "metadata": {
        "id": "RNud2dZOlLAw"
      }
    },
    {
      "cell_type": "code",
      "source": [
        "df_encoded = pd.get_dummies(df, columns=[\"Region\"])\n",
        "\n",
        "print(df_encoded)"
      ],
      "metadata": {
        "id": "NOYJ7RRekAjE",
        "colab": {
          "base_uri": "https://localhost:8080/"
        },
        "outputId": "9745c759-aacb-4703-eb8f-8acc7abcc47b"
      },
      "execution_count": null,
      "outputs": [
        {
          "output_type": "stream",
          "name": "stdout",
          "text": [
            "         Country  Happiness Rank  Happiness Score  Standard Error  \\\n",
            "0    Switzerland               1            7.587         0.03411   \n",
            "1        Iceland               2            7.561         0.04884   \n",
            "2        Denmark               3            7.527         0.03328   \n",
            "3         Norway               4            7.522         0.03880   \n",
            "4         Canada               5            7.427         0.03553   \n",
            "..           ...             ...              ...             ...   \n",
            "153       Rwanda             154            3.465         0.03464   \n",
            "154        Benin             155            3.340         0.03656   \n",
            "155        Syria             156            3.006         0.05015   \n",
            "156      Burundi             157            2.905         0.08658   \n",
            "157         Togo             158            2.839         0.06727   \n",
            "\n",
            "     Economy (GDP per Capita)   Family  Health (Life Expectancy)  Freedom  \\\n",
            "0                     1.39651  1.34951                   0.94143  0.66557   \n",
            "1                     1.30232  1.40223                   0.94784  0.62877   \n",
            "2                     1.32548  1.36058                   0.87464  0.64938   \n",
            "3                     1.45900  1.33095                   0.88521  0.66973   \n",
            "4                     1.32629  1.32261                   0.90563  0.63297   \n",
            "..                        ...      ...                       ...      ...   \n",
            "153                   0.22208  0.77370                   0.42864  0.59201   \n",
            "154                   0.28665  0.35386                   0.31910  0.48450   \n",
            "155                   0.66320  0.47489                   0.72193  0.15684   \n",
            "156                   0.01530  0.41587                   0.22396  0.11850   \n",
            "157                   0.20868  0.13995                   0.28443  0.36453   \n",
            "\n",
            "     Trust (Government Corruption)  Generosity  ...  \\\n",
            "0                          0.41978     0.29678  ...   \n",
            "1                          0.14145     0.43630  ...   \n",
            "2                          0.48357     0.34139  ...   \n",
            "3                          0.36503     0.34699  ...   \n",
            "4                          0.32957     0.45811  ...   \n",
            "..                             ...         ...  ...   \n",
            "153                        0.55191     0.22628  ...   \n",
            "154                        0.08010     0.18260  ...   \n",
            "155                        0.18906     0.47179  ...   \n",
            "156                        0.10062     0.19727  ...   \n",
            "157                        0.10731     0.16681  ...   \n",
            "\n",
            "     Region_Australia and New Zealand  Region_Central and Eastern Europe  \\\n",
            "0                                   0                                  0   \n",
            "1                                   0                                  0   \n",
            "2                                   0                                  0   \n",
            "3                                   0                                  0   \n",
            "4                                   0                                  0   \n",
            "..                                ...                                ...   \n",
            "153                                 0                                  0   \n",
            "154                                 0                                  0   \n",
            "155                                 0                                  0   \n",
            "156                                 0                                  0   \n",
            "157                                 0                                  0   \n",
            "\n",
            "     Region_Eastern Asia  Region_Latin America and Caribbean  \\\n",
            "0                      0                                   0   \n",
            "1                      0                                   0   \n",
            "2                      0                                   0   \n",
            "3                      0                                   0   \n",
            "4                      0                                   0   \n",
            "..                   ...                                 ...   \n",
            "153                    0                                   0   \n",
            "154                    0                                   0   \n",
            "155                    0                                   0   \n",
            "156                    0                                   0   \n",
            "157                    0                                   0   \n",
            "\n",
            "     Region_Middle East and Northern Africa  Region_North America  \\\n",
            "0                                         0                     0   \n",
            "1                                         0                     0   \n",
            "2                                         0                     0   \n",
            "3                                         0                     0   \n",
            "4                                         0                     1   \n",
            "..                                      ...                   ...   \n",
            "153                                       0                     0   \n",
            "154                                       0                     0   \n",
            "155                                       1                     0   \n",
            "156                                       0                     0   \n",
            "157                                       0                     0   \n",
            "\n",
            "     Region_Southeastern Asia  Region_Southern Asia  \\\n",
            "0                           0                     0   \n",
            "1                           0                     0   \n",
            "2                           0                     0   \n",
            "3                           0                     0   \n",
            "4                           0                     0   \n",
            "..                        ...                   ...   \n",
            "153                         0                     0   \n",
            "154                         0                     0   \n",
            "155                         0                     0   \n",
            "156                         0                     0   \n",
            "157                         0                     0   \n",
            "\n",
            "     Region_Sub-Saharan Africa  Region_Western Europe  \n",
            "0                            0                      1  \n",
            "1                            0                      1  \n",
            "2                            0                      1  \n",
            "3                            0                      1  \n",
            "4                            0                      0  \n",
            "..                         ...                    ...  \n",
            "153                          1                      0  \n",
            "154                          1                      0  \n",
            "155                          0                      0  \n",
            "156                          1                      0  \n",
            "157                          1                      0  \n",
            "\n",
            "[158 rows x 21 columns]\n"
          ]
        }
      ]
    },
    {
      "cell_type": "code",
      "source": [],
      "metadata": {
        "id": "9z9XRbSQta81"
      },
      "execution_count": null,
      "outputs": []
    },
    {
      "cell_type": "markdown",
      "source": [
        "COVARIANCE MATRIX"
      ],
      "metadata": {
        "id": "r8Pp01Y3wl95"
      }
    },
    {
      "cell_type": "code",
      "source": [
        "\n",
        "a = df['Family']\n",
        "category_columns = df[['Health (Life Expectancy)']]\n",
        "\n",
        "# Calculate the covariance matrix\n",
        "covariance_matrix = np.cov(a, category_columns, rowvar=False)\n",
        "\n",
        "print(\"Covariance Matrix:\")\n",
        "print(covariance_matrix)\n"
      ],
      "metadata": {
        "colab": {
          "base_uri": "https://localhost:8080/"
        },
        "id": "atq-5z8JwUBv",
        "outputId": "7d004aeb-632d-4578-bc46-945ab66ed465"
      },
      "execution_count": null,
      "outputs": [
        {
          "output_type": "stream",
          "name": "stdout",
          "text": [
            "Covariance Matrix:\n",
            "[[0.07418492 0.03574136]\n",
            " [0.03574136 0.06104742]]\n"
          ]
        }
      ]
    },
    {
      "cell_type": "code",
      "source": [
        "import numpy as np\n",
        "import seaborn as sns\n",
        "import matplotlib.pyplot as plt\n",
        "\n",
        "feature_names = ['Economy(GDP per Capita)', 'Family, Health (Life Expectancy)']\n",
        "\n",
        "\n",
        "plt.figure(figsize=(10, 8))\n",
        "heatmap = sns.heatmap(covariance_matrix, annot=True, fmt=\".2f\", cmap=\"coolwarm\", square=True)\n",
        "\n",
        "heatmap.set_xticklabels(feature_names, rotation=45, ha='right')\n",
        "heatmap.set_yticklabels(feature_names, rotation=0)\n",
        "\n",
        "plt.title(\"Covariance Matrix Heatmap\")\n",
        "plt.show()\n"
      ],
      "metadata": {
        "colab": {
          "base_uri": "https://localhost:8080/",
          "height": 853
        },
        "id": "zP4YkosLwXqx",
        "outputId": "472c87ce-b307-4f99-81b2-c62d8cd2344f"
      },
      "execution_count": null,
      "outputs": [
        {
          "output_type": "display_data",
          "data": {
            "text/plain": [
              "<Figure size 1000x800 with 2 Axes>"
            ],
            "image/png": "[encoded data removed]"
          },
          "metadata": {}
        }
      ]
    },
    {
      "cell_type": "code",
      "source": [],
      "metadata": {
        "id": "8oqAlj_0yIwz"
      },
      "execution_count": null,
      "outputs": []
    },
    {
      "cell_type": "code",
      "source": [],
      "metadata": {
        "id": "uYbG_kcvyNJ5"
      },
      "execution_count": null,
      "outputs": []
    },
    {
      "cell_type": "markdown",
      "source": [
        "CHI SQUARE TEST"
      ],
      "metadata": {
        "id": "jLKovHIAyNk6"
      }
    },
    {
      "cell_type": "markdown",
      "source": [
        "label encoding needed to performed to covert categorical values to numeric values"
      ],
      "metadata": {
        "id": "gN5-jwC91Zoh"
      }
    },
    {
      "cell_type": "code",
      "source": [
        "from sklearn.preprocessing import LabelEncoder\n",
        "for col in['Country','Region']:\n",
        "  le=LabelEncoder()\n",
        "  df[col]=le.fit_transform(df[col])"
      ],
      "metadata": {
        "id": "hSXdRF6O1m8y"
      },
      "execution_count": 40,
      "outputs": []
    },
    {
      "cell_type": "code",
      "source": [
        "from sklearn.feature_selection import chi2\n",
        "x=df.drop(columns=['Region'])\n",
        "y=df['Region']\n",
        "\n",
        "\n",
        "chi_scores=chi2(x,y)\n",
        "chi_values=pd.Series(chi_scores[0],index=x.columns)\n",
        "chi_values.sort_values(ascending=False,inplace=True)\n",
        "chi_values.plot.bar()"
      ],
      "metadata": {
        "id": "pV3ui4mGyJFx",
        "colab": {
          "base_uri": "https://localhost:8080/",
          "height": 646
        },
        "outputId": "8f4b4a8f-5079-432d-e1b4-336fee3f2363"
      },
      "execution_count": 41,
      "outputs": [
        {
          "output_type": "execute_result",
          "data": {
            "text/plain": [
              "<Axes: >"
            ]
          },
          "metadata": {},
          "execution_count": 41
        },
        {
          "output_type": "display_data",
          "data": {
            "text/plain": [
              "<Figure size 640x480 with 1 Axes>"
            ],
            "image/png": "[encoded data removed]"
          },
          "metadata": {}
        }
      ]
    },
    {
      "cell_type": "code",
      "source": [],
      "metadata": {
        "id": "g8AmGErDyJOj"
      },
      "execution_count": null,
      "outputs": []
    }
  ]
}