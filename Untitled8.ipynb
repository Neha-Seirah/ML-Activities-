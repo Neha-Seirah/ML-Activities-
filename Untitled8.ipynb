{
  "nbformat": 4,
  "nbformat_minor": 0,
  "metadata": {
    "colab": {
      "provenance": [],
      "authorship_tag": "ABX9TyM+jWEkrixIhsuUXtdsht2n",
      "include_colab_link": true
    },
    "kernelspec": {
      "name": "python3",
      "display_name": "Python 3"
    },
    "language_info": {
      "name": "python"
    }
  },
  "cells": [
    {
      "cell_type": "markdown",
      "metadata": {
        "id": "view-in-github",
        "colab_type": "text"
      },
      "source": [
        "<a href=\"https://colab.research.google.com/github/Neha-Seirah/ML-Activities-/blob/main/Untitled8.ipynb\" target=\"_parent\"><img src=\"https://colab.research.google.com/assets/colab-badge.svg\" alt=\"Open In Colab\"/></a>"
      ]
    },
    {
      "cell_type": "code",
      "execution_count": null,
      "metadata": {
        "id": "MjC45lpWPDWA"
      },
      "outputs": [],
      "source": [
        "import pandas as pd\n",
        "import matplotlib.pyplot as plt\n",
        "import seaborn as sns\n",
        "from sklearn.preprocessing import LabelEncoder\n",
        "import numpy as np"
      ]
    },
    {
      "cell_type": "code",
      "source": [
        "df = pd.read_csv('/content/Market_Basket_Optimisation.csv')\n",
        "df.head()"
      ],
      "metadata": {
        "id": "Ex6HqPeKPO8x"
      },
      "execution_count": null,
      "outputs": []
    },
    {
      "cell_type": "code",
      "source": [
        "df.shape"
      ],
      "metadata": {
        "id": "mZZfxTbRPRJv"
      },
      "execution_count": null,
      "outputs": []
    },
    {
      "cell_type": "code",
      "source": [
        "df.isna().sum()\n",
        "df = df.fillna(0)"
      ],
      "metadata": {
        "id": "JgKLxQGjPS-G"
      },
      "execution_count": null,
      "outputs": []
    },
    {
      "cell_type": "code",
      "source": [
        "df.drop(columns = ['olive oil'])"
      ],
      "metadata": {
        "id": "OCutzt8oPX08"
      },
      "execution_count": null,
      "outputs": []
    },
    {
      "cell_type": "code",
      "source": [
        "categorical_columns = df.select_dtypes(include=['object']).columns.tolist()\n",
        "categorical_columns"
      ],
      "metadata": {
        "id": "g-mxprDPPaxw"
      },
      "execution_count": null,
      "outputs": []
    },
    {
      "cell_type": "code",
      "source": [
        "from sklearn.preprocessing import LabelEncoder\n",
        "\n",
        "le = LabelEncoder()\n",
        "\n",
        "for column in categorical_columns:\n",
        "    # Convert all values to strings\n",
        "    df[column] = df[column].astype(str)\n",
        "\n",
        "    # Fit and transform the LabelEncoder\n",
        "    df[column] = le.fit_transform(df[column])\n",
        "\n",
        "# Now your categorical columns are encoded as integers\n",
        "df"
      ],
      "metadata": {
        "id": "_r0XrawoPbhx"
      },
      "execution_count": null,
      "outputs": []
    },
    {
      "cell_type": "code",
      "source": [
        "df.info()"
      ],
      "metadata": {
        "id": "nnxl9JfVPgF1"
      },
      "execution_count": null,
      "outputs": []
    },
    {
      "cell_type": "code",
      "source": [
        "from matplotlib import cm\n",
        "plt.figure(figsize=(15, 10))\n",
        "colormap = cm.get_cmap('inferno')\n",
        "\n",
        "colors = [colormap(0.1), colormap(0.4), colormap(0.6), colormap(0.7), colormap(0.9)]\n",
        "df.drop('olive oil', axis=1).sum().sort_values().plot(kind='bar', color = colors)\n",
        "plt.xlabel('Number of Occurrences')\n",
        "plt.ylabel('Food Items')\n",
        "plt.title('Frequency of Food Items')"
      ],
      "metadata": {
        "id": "g1VN2NWuPhpc"
      },
      "execution_count": null,
      "outputs": []
    }
  ]
}